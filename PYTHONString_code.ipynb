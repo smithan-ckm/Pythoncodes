{
 "cells": [
  {
   "cell_type": "code",
   "execution_count": 1,
   "id": "desperate-disaster",
   "metadata": {},
   "outputs": [
    {
     "name": "stdout",
     "output_type": "stream",
     "text": [
      "Enter a stringsmitha\n",
      "ahtims\n"
     ]
    }
   ],
   "source": [
    "#Reverse a string\n",
    "str=input(\"Enter a string\")\n",
    "str=str[::-1]\n",
    "print(str)"
   ]
  },
  {
   "cell_type": "code",
   "execution_count": 2,
   "id": "heard-relationship",
   "metadata": {},
   "outputs": [
    {
     "name": "stdout",
     "output_type": "stream",
     "text": [
      "        *   \n",
      "\n",
      "      *   *   \n",
      "\n",
      "    *   *   *   \n",
      "\n",
      "  *   *   *   *   \n",
      "\n"
     ]
    }
   ],
   "source": [
    "#Print pattern\n",
    "for i in range(0,4):\n",
    "    for space in range(0,4-i):\n",
    "        print(\" \",end =\" \")# end is used to swipe \\n \n",
    "    for j in range(0,i+1):\n",
    "        print(\"*  \",end=\" \")\n",
    "    print(\"\\n\")"
   ]
  },
  {
   "cell_type": "code",
   "execution_count": 10,
   "id": "convenient-gathering",
   "metadata": {},
   "outputs": [
    {
     "name": "stdout",
     "output_type": "stream",
     "text": [
      "enter a integer number10 29 30\n",
      "['10', '29', '30']\n",
      "69\n"
     ]
    }
   ],
   "source": [
    "#taking input in python use of split where input with space is accepted\n",
    "l=[]\n",
    "l=(input(\"enter a integer number\").split(\" \"))\n",
    "print(l)\n",
    "sum=0\n",
    "for i in l:\n",
    "    i=int(i)\n",
    "    sum+=i\n",
    "print(sum)"
   ]
  },
  {
   "cell_type": "code",
   "execution_count": 13,
   "id": "nervous-hartford",
   "metadata": {},
   "outputs": [
    {
     "name": "stdout",
     "output_type": "stream",
     "text": [
      "Info\n",
      "Infosys Limite\n",
      "Infosys LimitedInfosys Limited\n",
      "Infosys LimiteMysoreInfosys Limite\n",
      "y\n",
      "r\n",
      "Infosys LimitedInfosys LimitedInfosys LimiteMysore\n"
     ]
    }
   ],
   "source": [
    "\"\"\"program     string slicing\"\"\"\n",
    "\n",
    "string1=\"Infosys Limited\"\n",
    "string2=\"Mysore\"\n",
    "\n",
    "print(string1[:4])\n",
    "\n",
    "print(string1[:-1])\n",
    "\n",
    "print(string1*2)\n",
    "\n",
    "print(string1[:-1]+string2+string1[:-1])\n",
    "\n",
    "print(string2[1])\n",
    "\n",
    "print(string2[4])\n",
    "\n",
    "print(string1*2 + string1[:-1] + string2)"
   ]
  },
  {
   "cell_type": "code",
   "execution_count": 18,
   "id": "objective-reputation",
   "metadata": {},
   "outputs": [
    {
     "ename": "SyntaxError",
     "evalue": "invalid syntax (<ipython-input-18-1ecc47932e1c>, line 2)",
     "output_type": "error",
     "traceback": [
      "\u001b[1;36m  File \u001b[1;32m\"<ipython-input-18-1ecc47932e1c>\"\u001b[1;36m, line \u001b[1;32m2\u001b[0m\n\u001b[1;33m    from collections import Counter // to count repeation of letter as dictionaries\u001b[0m\n\u001b[1;37m                                     ^\u001b[0m\n\u001b[1;31mSyntaxError\u001b[0m\u001b[1;31m:\u001b[0m invalid syntax\n"
     ]
    }
   ],
   "source": [
    "\"\"\"Assignmnet 24 program to count and display capital letters\"\"\"\n",
    "from collections import Counter // to count repeation of letter as dictionaries\n",
    "c=0\n",
    "str=input(\"Enter a string\")\n",
    "for i in str:\n",
    "    if i.isupper():\n",
    "        c+=1\n",
    "print(Counter(str))\n",
    "print(c)\n"
   ]
  },
  {
   "cell_type": "code",
   "execution_count": 21,
   "id": "beginning-cedar",
   "metadata": {},
   "outputs": [
    {
     "name": "stdout",
     "output_type": "stream",
     "text": [
      "Enter first stringsmitha\n",
      "Enter second stringsmmmI\n",
      "I\n"
     ]
    }
   ],
   "source": [
    "\"\"\" write a program to read two string and merger \n",
    "two string by taking only upper case letters from both string\"\"\"\n",
    "str1=input(\"Enter first string\")\n",
    "str2=input(\"Enter second string\")\n",
    "str3=\"\"\n",
    "for i in str1:\n",
    "    if i.isupper():\n",
    "        str3=str3+i\n",
    "for j in str2:\n",
    "    if j.isupper():\n",
    "        str3=str3+j\n",
    "print(str3)"
   ]
  },
  {
   "cell_type": "code",
   "execution_count": 27,
   "id": "ambient-timothy",
   "metadata": {},
   "outputs": [
    {
     "name": "stdout",
     "output_type": "stream",
     "text": [
      "Enter a stringSmitha N\n",
      "SmithaN\n",
      "SihN\n",
      "NhiS\n"
     ]
    }
   ],
   "source": [
    "\n",
    "\"\"\" program to read a string and find resultant of a string only at even position and \n",
    "print reverse of resultantstring ignore space\"\"\"\n",
    "str1=input(\"Enter a string\")\n",
    "str1=str1.replace(\" \",\"\")\n",
    "print(str1)\n",
    "str2=\"\"\n",
    "for i in range(0,len(str1)):\n",
    "    if (i%2==0):\n",
    "        str2=str2+str1[i]\n",
    "print(str2)\n",
    "str2=str2[::-1]\n",
    "print(str2)"
   ]
  },
  {
   "cell_type": "code",
   "execution_count": 30,
   "id": "celtic-browser",
   "metadata": {},
   "outputs": [
    {
     "name": "stdout",
     "output_type": "stream",
     "text": [
      "enter string with punchuationSMitha\n",
      "SMitha\n"
     ]
    }
   ],
   "source": [
    "\"\"\"program to remove punchuation from given string,p should be in single quotes only\"\"\"\n",
    "\n",
    "s=input(\"enter string with punchuation\")\n",
    "p='!()-[]{};:''/@'\n",
    "no_punch=\"\"\n",
    "for char in s:\n",
    "    if char not in p:\n",
    "        no_punch=no_punch+char\n",
    "\n",
    "print(no_punch)"
   ]
  },
  {
   "cell_type": "code",
   "execution_count": null,
   "id": "acknowledged-cradle",
   "metadata": {},
   "outputs": [],
   "source": []
  }
 ],
 "metadata": {
  "kernelspec": {
   "display_name": "Python 3",
   "language": "python",
   "name": "python3"
  },
  "language_info": {
   "codemirror_mode": {
    "name": "ipython",
    "version": 3
   },
   "file_extension": ".py",
   "mimetype": "text/x-python",
   "name": "python",
   "nbconvert_exporter": "python",
   "pygments_lexer": "ipython3",
   "version": "3.7.4"
  }
 },
 "nbformat": 4,
 "nbformat_minor": 5
}
